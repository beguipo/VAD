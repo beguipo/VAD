{
 "cells": [
  {
   "cell_type": "markdown",
   "metadata": {},
   "source": [
    "Importar las dependencias necesarias"
   ]
  },
  {
   "cell_type": "code",
   "execution_count": 1,
   "metadata": {},
   "outputs": [],
   "source": [
    "import whisper #Para la trasncip\n",
    "import sounddevice as sd\n",
    "import numpy as np\n",
    "from pydub import AudioSegment\n",
    "import webrtcvad  \n",
    "\n",
    "import collections #Para el buffer\n",
    "import threading #Para el hilo de comprobacion del buffer\n",
    "import time #Para dormir el hilo\n",
    "\n",
    "import wave #Para guardar el audio\n",
    "import datetime #Para el nombre del archivo\n",
    "\n",
    "import os #Para manejar archivos y direcotrios\n",
    "\n",
    "# Monitorizacion del directorio sin polling\n",
    "from watchdog.observers import Observer\n",
    "from watchdog.events import FileSystemEventHandler\n"
   ]
  },
  {
   "cell_type": "markdown",
   "metadata": {},
   "source": [
    "Variables"
   ]
  },
  {
   "cell_type": "code",
   "execution_count": 2,
   "metadata": {},
   "outputs": [],
   "source": [
    "# Directorios\n",
    "directorio_entrada_audio = \"seq/\"\n",
    "directorio_salida_audio = \"seq/Final/\"\n",
    "\n",
    "#Configuración del buffer \n",
    "BUFFER_SIZE = 5  # Número de resultados de detección de voz a tener en cuenta\n",
    "VOICE_THRESHOLD =0.8   # Umbral de voz para comenzar a grabar\n",
    "\n",
    "buffer = collections.deque(maxlen=BUFFER_SIZE)\n",
    "buffer.extend([0]*BUFFER_SIZE)\n",
    "\n",
    "# Configuración de sounddevice\n",
    "fs = 32000  # Frecuencia de muestreo (Depende algo ams de las caracteristicas del micrófono)\n",
    "duration = 0.1  # Duración de cada grabación en segundos (a mas pequeño, mayor sensibilidad)\n",
    "\n",
    "THRESHOLD = 1000  #Umbral a partir del que se considera que hay voz\n",
    "\n",
    "# Inicializar el objeto VAD\n",
    "vad = webrtcvad.Vad()\n",
    "\n",
    "global numero # Para la numeracion de los archivos\n",
    "numero  = 0"
   ]
  },
  {
   "cell_type": "markdown",
   "metadata": {},
   "source": [
    "Definimos las funcinoes de eliminacion de archivos, concatenacion de audios , VAD y comporbación de los buffers"
   ]
  },
  {
   "cell_type": "code",
   "execution_count": 3,
   "metadata": {},
   "outputs": [],
   "source": [
    "def eliminar_archivos_wav(directorio):\n",
    "    archivos = [archivo for archivo in os.listdir(directorio) if archivo.lower().endswith('.wav')]\n",
    "\n",
    "    for archivo in archivos:\n",
    "        os.remove(os.path.join(directorio, archivo))"
   ]
  },
  {
   "cell_type": "code",
   "execution_count": 4,
   "metadata": {},
   "outputs": [],
   "source": [
    "def concatenar_archivos_en_directorio(directorio_salida, directorio_entrada):\n",
    "    archivos = [archivo for archivo in os.listdir(directorio_entrada) if archivo.lower().endswith('.wav')]\n",
    "\n",
    "    if not archivos:\n",
    "        print(\"No hay archivos WAV en el directorio de entrada.\")\n",
    "        return\n",
    "\n",
    "    archivos_ordenados = sorted(archivos, key=lambda x: int(x.split('output')[1].split('.')[0]))\n",
    "\n",
    "    archivos_concatenados = AudioSegment.silent()\n",
    "\n",
    "    for archivo in archivos_ordenados:\n",
    "        ruta_completa = os.path.join(directorio_entrada, archivo)\n",
    "        archivos_concatenados += AudioSegment.from_wav(ruta_completa)\n",
    "\n",
    "    # Guardar el archivo concatenado con un nombre basado en el directorio de salida\n",
    "    nombre_concatenado = os.path.join(directorio_salida, \"concatenado.wav\")\n",
    "    archivos_concatenados.export(nombre_concatenado, format=\"wav\")\n",
    "    print(f\"Archivos concatenados y guardados como: {nombre_concatenado}\")\n"
   ]
  },
  {
   "cell_type": "code",
   "execution_count": 5,
   "metadata": {},
   "outputs": [],
   "source": [
    "def is_voice(data):\n",
    " \n",
    "    audio_segment = AudioSegment(\n",
    "        data.tobytes(),\n",
    "        frame_rate=fs,\n",
    "        sample_width=data.dtype.itemsize,\n",
    "        channels=1\n",
    "    )\n",
    "    volume = audio_segment.rms\n",
    "    return volume > THRESHOLD"
   ]
  },
  {
   "cell_type": "code",
   "execution_count": 6,
   "metadata": {},
   "outputs": [],
   "source": [
    "def check_buffer():\n",
    "    global numero\n",
    "\n",
    "    while True:\n",
    "        mean = sum(buffer) / len(buffer)\n",
    "        if mean > VOICE_THRESHOLD:\n",
    "            print(\"Grabando\", end=\"\", flush=True)  # Escribir \"Grabando\" sin salto de línea\n",
    "            audio_data = sd.rec(int(fs * 2), samplerate=fs, channels=1, dtype=np.int16)\n",
    "            sd.wait()\n",
    "\n",
    "            # Guardar el audio en un archivo .wav\n",
    "            \n",
    "            nombre = directorio_entrada_audio + \"output\" + str(numero) + \".wav\"\n",
    "            numero = numero + 1\n",
    "\n",
    "            with wave.open(nombre, 'w') as wav_file:\n",
    "                wav_file.setnchannels(1)\n",
    "                wav_file.setsampwidth(2)  # 2 bytes (16 bits) de ancho de muestra\n",
    "                wav_file.setframerate(fs)\n",
    "                wav_file.writeframes(audio_data.tobytes())\n",
    "            print(\"Fin tramo\", end=\"\", flush=True)  # Escribir \"Fin tramo\" sin salto de línea\n",
    "        else:\n",
    "            time.sleep(0.2) #Esperar 0.4 segundos\n"
   ]
  },
  {
   "cell_type": "code",
   "execution_count": 7,
   "metadata": {},
   "outputs": [],
   "source": [
    "def convertir_wav_a_mp3(archivo_wav, archivo_mp3):\n",
    "    # Cargar el archivo WAV\n",
    "    audio = AudioSegment.from_wav(archivo_wav)\n",
    "\n",
    "    # Guardar el archivo MP3\n",
    "    audio.export(archivo_mp3, format=\"mp3\")\n",
    "    print(f\"Conversión completada: {archivo_mp3}\")"
   ]
  },
  {
   "cell_type": "markdown",
   "metadata": {},
   "source": [
    "Función main"
   ]
  },
  {
   "cell_type": "code",
   "execution_count": 8,
   "metadata": {},
   "outputs": [],
   "source": [
    "def main():\n",
    "    # Establecer el modo de VAD en el nivel más suave (comprobar)\n",
    "    vad.set_mode(1)\n",
    "\n",
    "    print(\"Escuchando...\")\n",
    "\n",
    "    global audio_data\n",
    "\n",
    "    # Iniciar el hilo de comprobación del buffer\n",
    "    threading.Thread(target=check_buffer, daemon=True).start()\n",
    "\n",
    "    while True:\n",
    "        # Grabar audio\n",
    "        audio_data = sd.rec(int(fs * duration), samplerate=fs, channels=1, dtype=np.int16)\n",
    "        sd.wait()\n",
    "\n",
    "        # Verificar si hay voz\n",
    "        if is_voice(audio_data):\n",
    "            #print(1)\n",
    "            buffer.append(1)\n",
    "        else:\n",
    "            #print(0)\n",
    "            buffer.append(0)"
   ]
  },
  {
   "cell_type": "markdown",
   "metadata": {},
   "source": [
    "WatchDog del directorio"
   ]
  },
  {
   "cell_type": "code",
   "execution_count": 9,
   "metadata": {},
   "outputs": [],
   "source": [
    "class MyHandler(FileSystemEventHandler):\n",
    "    def __init__(self, file_created_event):\n",
    "        self.file_created_event = file_created_event\n",
    "\n",
    "    def on_created(self, event):\n",
    "        if event.is_directory:\n",
    "            return\n",
    "        elif event.event_type == 'created':\n",
    "            print(f\"¡Se ha creado el archivo: {event.src_path}!\")\n",
    "            self.file_created_event.set()\n",
    "\n",
    "def monitor_directory(directory_path, file_created_event):\n",
    "    event_handler = MyHandler(file_created_event)\n",
    "    observer = Observer()\n",
    "    observer.schedule(event_handler, path=directory_path, recursive=False)\n",
    "    observer.start()\n",
    "\n",
    "    try:\n",
    "        print(f\"Monitoreando el directorio: {directory_path}\")\n",
    "        observer.join()\n",
    "    except KeyboardInterrupt:\n",
    "        observer.stop()\n",
    "\n",
    "    observer.join()"
   ]
  },
  {
   "cell_type": "markdown",
   "metadata": {},
   "source": [
    "Core de whisper"
   ]
  },
  {
   "cell_type": "code",
   "execution_count": 10,
   "metadata": {},
   "outputs": [
    {
     "name": "stderr",
     "output_type": "stream",
     "text": [
      "Exception in thread Thread-8 (whisper):\n",
      "Traceback (most recent call last):\n",
      "  File \"/usr/lib/python3.10/threading.py\", line 1016, in _bootstrap_inner\n",
      "    self.run()\n",
      "  File \"/usr/lib/python3.10/threading.py\", line 953, in run\n",
      "    self._target(*self._args, **self._kwargs)\n",
      "  File \"/tmp/ipykernel_15544/308790248.py\", line 3, in whisper\n",
      "AttributeError: 'function' object has no attribute 'load_model'\n"
     ]
    },
    {
     "name": "stdout",
     "output_type": "stream",
     "text": [
      "Escuchando...\n",
      "Monitoreando el directorio: seq/Final/\n",
      "GrabandoFin tramoGrabandoFin tramoGrabandoFin tramo"
     ]
    }
   ],
   "source": [
    "def whisper(semaphore):\n",
    "\n",
    "    model = whisper.load_model(\"base\") #Precargamos el modelo. Mirar grafico de github\n",
    "\n",
    "    while True:\n",
    "        semaphore.wait()\n",
    "        convertir_wav_a_mp3(directorio_salida_audio + \"concatenado.wav\",directorio_salida_audio + \"concatenado.mp3\")\n",
    "        trasncripcion = model.transcribe(directorio_salida_audio + \"concatenado.mp3\")\n",
    "        print(trasncripcion)\n",
    "        semaphore.clear()\n",
    "\n",
    "\n",
    "if __name__ == \"__main__\":\n",
    "    # Semaforo generacion de archivos\n",
    "    file_created_event = threading.Event()\n",
    "    \n",
    "\n",
    "    # Crear e iniciar el hilo que verifica archivos\n",
    "    verificador_thread = threading.Thread(target=monitor_directory,args=(directorio_salida_audio, file_created_event))\n",
    "    verificador_thread.start()\n",
    "\n",
    "    whisperThread = threading.Thread(target=whisper, args=(file_created_event,))\n",
    "    whisperThread.start()\n",
    "\n",
    "    try:\n",
    "        main()\n",
    "    except KeyboardInterrupt:\n",
    "        print(\"\\nPrograma de grabacion finalizado.\")\n",
    "        concatenar_archivos_en_directorio(directorio_salida_audio, directorio_entrada_audio)\n"
   ]
  }
 ],
 "metadata": {
  "kernelspec": {
   "display_name": "VAD",
   "language": "python",
   "name": "python3"
  },
  "language_info": {
   "codemirror_mode": {
    "name": "ipython",
    "version": 3
   },
   "file_extension": ".py",
   "mimetype": "text/x-python",
   "name": "python",
   "nbconvert_exporter": "python",
   "pygments_lexer": "ipython3",
   "version": "3.10.12"
  }
 },
 "nbformat": 4,
 "nbformat_minor": 2
}

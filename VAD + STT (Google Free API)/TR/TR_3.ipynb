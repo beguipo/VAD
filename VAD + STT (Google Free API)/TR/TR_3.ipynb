{
 "cells": [
  {
   "cell_type": "markdown",
   "metadata": {},
   "source": [
    "Importamos las librerias necesarias"
   ]
  },
  {
   "cell_type": "code",
   "execution_count": null,
   "metadata": {},
   "outputs": [],
   "source": [
    "import os\n",
    "import time\n",
    "import threading\n",
    "import queue\n",
    "import speech_recognition as sr"
   ]
  },
  {
   "cell_type": "markdown",
   "metadata": {},
   "source": [
    "Definimos la funcion grabar_audio() que será la encargada de grabar el audio hasta que se detecte silencio. Ademas toma una muestra del sonido ambiente exterior para ajustar el posible ruido de la grabación.\n",
    "\n",
    "La varibale q va a ser usadada como un buffer para comunicarse entre los hilos que va a haber en el prgrama."
   ]
  },
  {
   "cell_type": "code",
   "execution_count": null,
   "metadata": {},
   "outputs": [],
   "source": [
    "def grabar_audio(q):\n",
    "    r = sr.Recognizer()\n",
    "\n",
    "    with sr.Microphone() as source:\n",
    "        while True:\n",
    "            print(\"Escuchando...\")\n",
    "            #r.adjust_for_ambient_noise(source)\n",
    "            audio = r.record(source, duration=5)  \n",
    "            q.put(audio)"
   ]
  },
  {
   "cell_type": "markdown",
   "metadata": {},
   "source": [
    "Definimos la funcion analizar audio que será la encargada de que cada vez que aparezcan datos de audio en la cola, los trasncirbirá haciendo uso de recognize_google(). Como en este proyecto vamos a enviarle audios en español debemos especificarle el lenguaje, ya que de otra manera no hará una trasncripción correcta.\n",
    "La transcripcion será almacenada en un fichero de texto."
   ]
  },
  {
   "cell_type": "code",
   "execution_count": null,
   "metadata": {},
   "outputs": [],
   "source": [
    "def analizar_audio(q):\n",
    "    r = sr.Recognizer()\n",
    "\n",
    "    while True:\n",
    "        audio = q.get()\n",
    "        try:\n",
    "            texto = r.recognize_google(audio, language=\"es-ES\")\n",
    "            print(\"Transcripción:\", texto)\n",
    "            with open(\"seq/transcripciones.txt\", \"a\") as archivo:\n",
    "                archivo.write(texto + \"\\n\")\n",
    "\n",
    "        except sr.UnknownValueError:\n",
    "            print(\"No se pudo transcribir el audio\")\n",
    "        except sr.RequestError as e:\n",
    "            print(\"Error en la solicitud al servicio de reconocimiento de voz:\", str(e))"
   ]
  },
  {
   "cell_type": "markdown",
   "metadata": {},
   "source": [
    "Finalmente definimos la función main que nos comprobará inicialmente si esta creado el directorio donde se almacenará el archivo de las trasncipciones, configurará la cola (q) para la comunicacion entre hilos y generará los hilos, uno para cada función creada anteriormente."
   ]
  },
  {
   "cell_type": "code",
   "execution_count": null,
   "metadata": {},
   "outputs": [],
   "source": [
    "if __name__ == \"__main__\":\n",
    "    # Crea la carpeta 'seq' si no existe\n",
    "    if not os.path.exists(\"seq\"):\n",
    "        os.makedirs(\"seq\")\n",
    "\n",
    "    # Configura la cola para compartir datos entre subprocesos\n",
    "    cola = queue.Queue()\n",
    "\n",
    "    # Crea los subprocesos\n",
    "    hilo_grabacion = threading.Thread(target=grabar_audio, args=(cola,))\n",
    "    hilo_analisis = threading.Thread(target=analizar_audio, args=(cola,))\n",
    "\n",
    "    # Inicia los subprocesos\n",
    "    hilo_grabacion.start()\n",
    "    hilo_analisis.start()\n",
    "\n",
    "    try:\n",
    "        # Espera a que los subprocesos terminen\n",
    "        hilo_grabacion.join()\n",
    "        hilo_analisis.join()\n",
    "\n",
    "    except KeyboardInterrupt:\n",
    "        # Manejo de la interrupción de teclado (Ctrl+C)\n",
    "        print(\"Programa interrumpido. Terminando subprocesos.\")\n",
    "        hilo_grabacion.join()\n",
    "        hilo_analisis.join()"
   ]
  }
 ],
 "metadata": {
  "kernelspec": {
   "display_name": "VAD_DESKTOP",
   "language": "python",
   "name": "python3"
  },
  "language_info": {
   "codemirror_mode": {
    "name": "ipython",
    "version": 3
   },
   "file_extension": ".py",
   "mimetype": "text/x-python",
   "name": "python",
   "nbconvert_exporter": "python",
   "pygments_lexer": "ipython3",
   "version": "3.10.12"
  }
 },
 "nbformat": 4,
 "nbformat_minor": 2
}
